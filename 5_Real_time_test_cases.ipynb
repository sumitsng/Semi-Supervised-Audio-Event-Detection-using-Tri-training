{
  "nbformat": 4,
  "nbformat_minor": 0,
  "metadata": {
    "colab": {
      "name": "5. Real_time_test_cases.ipynb",
      "provenance": [],
      "collapsed_sections": []
    },
    "kernelspec": {
      "name": "python3",
      "display_name": "Python 3"
    },
    "language_info": {
      "name": "python"
    }
  },
  "cells": [
    {
      "cell_type": "code",
      "metadata": {
        "colab": {
          "base_uri": "https://localhost:8080/"
        },
        "id": "SOXpGiG7UfYw",
        "outputId": "a6086bcd-562b-4782-d28d-af7619f8a27c"
      },
      "source": [
        "!pip install pydub"
      ],
      "execution_count": null,
      "outputs": [
        {
          "output_type": "stream",
          "text": [
            "Collecting pydub\n",
            "  Downloading https://files.pythonhosted.org/packages/a6/53/d78dc063216e62fc55f6b2eebb447f6a4b0a59f55c8406376f76bf959b08/pydub-0.25.1-py2.py3-none-any.whl\n",
            "Installing collected packages: pydub\n",
            "Successfully installed pydub-0.25.1\n"
          ],
          "name": "stdout"
        }
      ]
    },
    {
      "cell_type": "code",
      "metadata": {
        "id": "OFoUqWZHUfeB"
      },
      "source": [
        "#######################################importing library####################################################\n",
        "import librosa\n",
        "import numpy as np"
      ],
      "execution_count": null,
      "outputs": []
    },
    {
      "cell_type": "code",
      "metadata": {
        "id": "zRl8rNYIF4TH"
      },
      "source": [
        "#######to generalize our model for real time test cases (recorded or from youtube) we downloaded these classes audio set from youtube in mp3 format:\n",
        "'''\n",
        "links are these:\n",
        "Dog_bark; https://youtu.be/nKG-BtVa9F8\n",
        "Car_horn: https://youtu.be/TF0cKfS07-U\n",
        "Air_conditioner: https://youtu.be/jCHGex4nLp8\n",
        "Engine_idling: https://youtu.be/A7YDh8y3RjE\n",
        "Drilling: https://youtu.be/e-BXOP0_hog\n",
        "Jackhammer: https://youtu.be/yPMdmhGt8g0\n",
        "Street_music:https://youtu.be/PgnGKFwL0kY\n",
        "Children_play:https://youtu.be/wAjKpdokhls\n",
        "Gun_shot:https://youtu.be/FidGPhNC4sc\n",
        "Siren:https://youtu.be/R3auDuKEnaA\n",
        "\n",
        "'''"
      ],
      "execution_count": null,
      "outputs": []
    },
    {
      "cell_type": "code",
      "metadata": {
        "colab": {
          "base_uri": "https://localhost:8080/"
        },
        "id": "zVAyKysmUfes",
        "outputId": "27dec1f7-2d01-4de5-d4f7-2f236dda19bc"
      },
      "source": [
        "##############################################Code to convert mp3 files to wav files, for example engine idling##########################\n",
        "from os import path\n",
        "from pydub import AudioSegment\n",
        "  \n",
        "# assign files\n",
        "input_file = ('/content/drive/MyDrive/ML_N/Engine_idling.mp3')\n",
        "output_file = ('/content/drive/MyDrive/ML_N/Engine_idling.wav')\n",
        "  \n",
        "# convert mp3 file to wav file\n",
        "sound = AudioSegment.from_mp3(input_file)\n",
        "sound.export(output_file, format=\"wav\")"
      ],
      "execution_count": null,
      "outputs": [
        {
          "output_type": "execute_result",
          "data": {
            "text/plain": [
              "<_io.BufferedRandom name='/content/drive/MyDrive/ML_N/Engine_idling.wav'>"
            ]
          },
          "metadata": {
            "tags": []
          },
          "execution_count": 65
        }
      ]
    },
    {
      "cell_type": "code",
      "metadata": {
        "id": "ijOHogAUUfoQ"
      },
      "source": [
        "##########################Breaking a 6 min wav file into 100 chunks of 4 seconds each, for example engine idling#####################################\n",
        "\n",
        "from pydub import AudioSegment\n",
        "from pydub.utils import make_chunks\n",
        "\n",
        "myaudio = AudioSegment.from_file(\"/content/drive/MyDrive/ML_N/Engine_idling.wav\" , \"wav\") \n",
        "chunk_length_ms = 4000 # pydub calculates in millisec\n",
        "chunks = make_chunks(myaudio, chunk_length_ms) #Make chunks of one sec\n",
        "\n",
        "#Export all of the individual chunks as wav files\n",
        "index=0\n",
        "for i, chunk in enumerate(chunks):\n",
        "  chunk_name = \"/content/drive/MyDrive/ML_N/Engine_idling/Engine_idling\"+str(index)+\".wav\".format(i)\n",
        "  print (\"exporting\", chunk_name)\n",
        "  chunk.export(chunk_name, format=\"wav\")\n",
        "  index=index+1"
      ],
      "execution_count": null,
      "outputs": []
    },
    {
      "cell_type": "markdown",
      "metadata": {
        "id": "GLHsYlLJApKw"
      },
      "source": [
        "Tri-training with majority votes"
      ]
    },
    {
      "cell_type": "code",
      "metadata": {
        "colab": {
          "base_uri": "https://localhost:8080/"
        },
        "id": "azO2140M4XRx",
        "outputId": "93d50736-a446-4d20-968f-d72dd555d36e"
      },
      "source": [
        "# all models tri training predictions \n",
        "\n",
        "list=['Air_conditioner','Car_horn','Children_play','Dog_bark','Drilling','Engine_idling','Gun_shot','Jackhammer','Siren','Street_music']\n",
        "import glob\n",
        "sample_r = []\n",
        "feature = []\n",
        "\n",
        "import keras\n",
        "m1 = keras.models.load_model('/content/drive/MyDrive/ML_A/Tri train/3. Tri-S/CRNN_80.h5')  \n",
        "m2 = keras.models.load_model('/content/drive/MyDrive/ML_A/Tri train/3. Tri-S/MLP_80.h5') \n",
        "m3 = keras.models.load_model('/content/drive/MyDrive/ML_A/Tri train/3. Tri-S/LSTM_80.h5')  \n",
        "\n",
        "#############################################Feature extraction#############################################################\n",
        "def parser(row):\n",
        "    # Function to load files and extract features\n",
        "    feature=[]\n",
        "    f=glob.glob(row+'/'+'*.wav')\n",
        "    for i in range(len(f)):\n",
        "        #file_name = '/content/drive/MyDrive/Dataset/audio/fold' + str(df[\"fold\"][i]) + '/' + df[\"slice_file_name\"][i]\n",
        "        X, sample_rate = librosa.load(f[i], res_type='kaiser_fast') \n",
        "        from sklearn import preprocessing\n",
        "        #X=preprocessing.normalize(X.reshape(16,8)).reshape(128,)\n",
        "        \n",
        "        feature.append(X)\n",
        "        sample_r.append(sample_rate)\n",
        "        mels = np.mean(librosa.feature.melspectrogram(y=X, sr=sample_rate).T,axis=0) \n",
        "        \n",
        "        #print(mels.shape)      \n",
        "        #feature.append(mels)\n",
        "        #label.append(df[\"classID\"][i])\n",
        "    return feature, sample_r\n",
        "\n",
        "\n",
        "######################Extracting features of all the wav files of all classes##########################################################\n",
        "features=[]\n",
        "X_total=[]\n",
        "y_total_pred=[]\n",
        "y_correct=[]\n",
        "y_real=[]\n",
        "index=0\n",
        "for i in list:\n",
        "  F=[]\n",
        "  F, sample_rate = parser('/content/drive/MyDrive/ML_N/'+i)\n",
        "  print(index)\n",
        "  \n",
        "  features.append(F)\n",
        "  x_ = []\n",
        "  X_test=[]\n",
        "  y_pred=[]\n",
        "  print(len(F))\n",
        "  for j in range(len(F)):\n",
        "    y_real.append(index)\n",
        "    mels = np.mean(librosa.feature.melspectrogram(y=F[j], sr=sample_rate[j]).T,axis=0)\n",
        "    #print(mels.shape)\n",
        "    from sklearn import preprocessing\n",
        "    mels=preprocessing.normalize(mels.reshape(16,8)).reshape(128,)\n",
        "    mels=np.reshape(mels, (128,))\n",
        "    x_.append(mels)\n",
        "    y_correct.append(index-1)\n",
        "    X_total.append(mels)\n",
        "  print(len(x_))\n",
        "  x=np.array(x_)\n",
        "\n",
        "  X_test.append(x)\n",
        "  print(x.shape)\n",
        "  y1 = m1.predict(x.reshape(len(x), 16,8,1))\n",
        "  y2 = m2.predict(x)\n",
        "  y3 = m3.predict(x.reshape(len(x), 16,8))\n",
        "  index+=1\n",
        "  y = []\n",
        "  for k in range(len(y1)):\n",
        "    p_1 = y1[k][np.argmax(y1[k])]\n",
        "    p_2 = y2[k][np.argmax(y2[k])]\n",
        "    p_3 = y3[k][np.argmax(y3[k])]\n",
        "    p_max = max(max(p_1, p_2), p_3)\n",
        "    if np.argmax(y1[k])==np.argmax(y2[k]) and (p_1>=0.85 or p_2>=0.85):\n",
        "      y.append(y1[k])\n",
        "    elif np.argmax(y2[k])==np.argmax(y3[k]) and (p_2>=0.85 or p_3>=0.85):\n",
        "      y.append(y2[k])\n",
        "    elif np.argmax(y3[k])==np.argmax(y1[k]) and (p_3>=0.85 or p_1>=0.85):\n",
        "      y.append(y3[k])\n",
        "    else:\n",
        "      if p_max==p_1:\n",
        "        y.append(y1[k])\n",
        "      elif p_max==p_2:\n",
        "        y.append(y2[k])\n",
        "      elif p_max==p_3:\n",
        "        y.append(y3[k])\n",
        "\n",
        "\n",
        "  y = np.argmax(y, axis=1)\n",
        "  \n",
        "  y_total_pred=y_total_pred+y.tolist()\n",
        "  print(y)\n",
        "\n",
        "\n",
        "#print(X_total.shape,y_total_pred.shape)"
      ],
      "execution_count": null,
      "outputs": [
        {
          "output_type": "stream",
          "text": [
            "WARNING:tensorflow:Error in loading the saved optimizer state. As a result, your model is starting with a freshly initialized optimizer.\n",
            "WARNING:tensorflow:Error in loading the saved optimizer state. As a result, your model is starting with a freshly initialized optimizer.\n",
            "WARNING:tensorflow:Error in loading the saved optimizer state. As a result, your model is starting with a freshly initialized optimizer.\n",
            "0\n",
            "88\n",
            "88\n",
            "(88, 128)\n",
            "[0 7 9 9 9 9 7 7 7 7 9 9 9 7 9 9 9 9 9 9 9 9 7 7 9 9 9 9 7 9 7 9 9 9 9 9 9\n",
            " 9 9 7 9 9 7 7 9 9 9 9 9 9 7 9 9 9 7 7 9 9 9 9 9 9 9 9 9 9 9 9 7 9 9 9 7 7\n",
            " 9 7 7 9 9 7 9 9 9 9 9 5 5 5]\n",
            "1\n",
            "80\n",
            "80\n",
            "(80, 128)\n",
            "[9 9 9 9 9 9 9 9 9 9 9 9 9 9 9 9 9 9 9 9 9 9 9 9 9 9 9 9 9 9 9 9 9 9 9 9 9\n",
            " 9 9 9 9 9 9 9 9 9 9 9 9 9 9 9 9 9 9 9 9 9 9 9 9 9 9 9 9 9 9 9 9 9 9 9 9 9\n",
            " 9 9 9 9 9 9]\n",
            "2\n",
            "76\n",
            "76\n",
            "(76, 128)\n",
            "[3 2 8 2 2 4 2 3 2 4 2 2 2 2 2 2 2 2 2 2 2 3 2 3 2 3 2 2 2 2 2 6 2 2 2 0 8\n",
            " 2 8 8 4 2 2 0 2 4 2 2 2 6 3 8 2 2 2 2 2 3 2 2 2 2 3 3 3 2 2 2 3 4 2 9 2 5\n",
            " 7 2]\n",
            "3\n",
            "76\n",
            "76\n",
            "(76, 128)\n",
            "[3 3 3 3 3 3 3 3 3 3 3 5 3 3 3 3 3 3 3 3 3 3 8 8 8 3 3 3 2 2 2 3 2 3 2 3 2\n",
            " 3 2 2 2 3 2 2 2 2 8 2 2 3 3 3 3 3 3 3 3 8 8 8 8 8 8 8 8 8 8 8 8 8 8 9 9 9\n",
            " 4 0]\n",
            "4\n",
            "70\n",
            "70\n",
            "(70, 128)\n",
            "[6 9 9 4 4 2 4 2 4 3 4 4 4 4 4 4 4 4 4 4 7 6 4 4 3 4 4 4 0 6 6 4 4 0 9 9 9\n",
            " 9 4 4 9 4 7 4 4 5 4 4 4 5 7 7 4 7 7 7 4 7 4 7 7 7 4 7 4 4 7 4 7 4]\n"
          ],
          "name": "stdout"
        },
        {
          "output_type": "stream",
          "text": [
            "/usr/local/lib/python3.7/dist-packages/librosa/core/spectrum.py:224: UserWarning: n_fft=2048 is too small for input signal of length=1610\n",
            "  n_fft, y.shape[-1]\n"
          ],
          "name": "stderr"
        },
        {
          "output_type": "stream",
          "text": [
            "5\n",
            "75\n"
          ],
          "name": "stdout"
        },
        {
          "output_type": "stream",
          "text": [
            "/usr/local/lib/python3.7/dist-packages/librosa/core/spectrum.py:224: UserWarning: n_fft=2048 is too small for input signal of length=1610\n",
            "  n_fft, y.shape[-1]\n"
          ],
          "name": "stderr"
        },
        {
          "output_type": "stream",
          "text": [
            "75\n",
            "(75, 128)\n",
            "[9 9 9 0 2 9 2 5 5 6 5 9 3 3 8 2 8 5 7 9 9 9 9 9 9 9 9 0 5 5 5 5 5 8 5 2 5\n",
            " 2 5 5 0 2 2 2 5 5 5 5 2 5 5 2 2 2 2 0 9 0 0 6 5 1 8 0 0 0 0 6 2 5 0 0 2 0\n",
            " 9]\n",
            "6\n",
            "98\n",
            "98\n",
            "(98, 128)\n",
            "[4 7 0 2 0 4 5 2 2 4 7 6 6 2 6 2 6 6 7 0 6 6 2 6 6 2 0 1 9 3 2 9 3 9 4 4 6\n",
            " 2 0 2 4 3 6 2 4 2 6 2 6 0 6 6 2 8 4 6 6 5 0 4 0 7 2 2 8 2 0 6 6 6 6 4 7 3\n",
            " 3 9 3 2 6 3 3 7 4 4 6 5 4 3 6 0 2 2 2 6 2 6 7 2]\n"
          ],
          "name": "stdout"
        },
        {
          "output_type": "stream",
          "text": [
            "/usr/local/lib/python3.7/dist-packages/librosa/core/spectrum.py:224: UserWarning: n_fft=2048 is too small for input signal of length=1610\n",
            "  n_fft, y.shape[-1]\n"
          ],
          "name": "stderr"
        },
        {
          "output_type": "stream",
          "text": [
            "7\n",
            "151\n"
          ],
          "name": "stdout"
        },
        {
          "output_type": "stream",
          "text": [
            "/usr/local/lib/python3.7/dist-packages/librosa/core/spectrum.py:224: UserWarning: n_fft=2048 is too small for input signal of length=1610\n",
            "  n_fft, y.shape[-1]\n"
          ],
          "name": "stderr"
        },
        {
          "output_type": "stream",
          "text": [
            "151\n",
            "(151, 128)\n",
            "[4 7 4 7 7 4 7 4 4 7 4 4 4 7 7 7 4 4 4 4 4 4 7 7 7 7 7 7 7 7 6 4 7 4 7 7 4\n",
            " 7 4 7 7 7 4 7 4 7 7 4 4 4 7 4 7 7 7 7 7 4 4 7 7 7 4 4 7 4 7 4 7 4 7 4 4 4\n",
            " 7 7 7 4 7 7 7 7 4 7 7 4 4 4 7 7 7 7 7 7 7 7 7 7 4 4 4 6 7 7 7 7 6 4 7 7 4\n",
            " 7 7 4 7 4 4 7 7 4 7 7 4 7 6 7 4 4 4 7 7 4 4 4 7 7 7 7 4 4 7 4 6 7 4 7 6 4\n",
            " 7 4 9]\n",
            "8\n",
            "151\n",
            "151\n",
            "(151, 128)\n",
            "[4 2 2 2 2 2 8 2 2 2 2 2 2 8 2 2 2 2 2 3 2 2 2 2 2 2 8 2 2 2 2 2 2 4 2 2 2\n",
            " 2 2 4 2 2 2 2 2 3 2 2 2 2 2 2 3 2 2 2 2 4 2 4 2 2 2 2 2 8 2 2 2 2 2 2 3 2\n",
            " 2 2 2 2 2 2 2 2 2 2 2 8 2 2 2 2 2 2 3 2 2 2 2 9 3 3 2 2 2 2 2 4 2 2 2 2 2\n",
            " 3 9 2 2 2 2 2 3 2 2 2 2 2 2 4 2 2 2 2 2 8 8 2 2 2 2 2 2 4 2 2 2 2 3 8 2 2\n",
            " 2 2 2]\n",
            "9\n",
            "70\n",
            "70\n",
            "(70, 128)\n",
            "[2 8 9 9 9 9 9 9 9 9 9 9 9 9 9 9 9 9 9 9 9 9 9 9 9 9 9 9 9 9 9 9 9 9 9 9 9\n",
            " 9 9 9 9 9 9 9 9 9 9 9 9 9 9 9 9 9 9 9 9 9 9 9 9 9 9 9 9 9 9 4 9 8]\n"
          ],
          "name": "stdout"
        }
      ]
    },
    {
      "cell_type": "code",
      "metadata": {
        "colab": {
          "base_uri": "https://localhost:8080/"
        },
        "id": "TA1ml08m_YEI",
        "outputId": "a4a322dd-746a-46e6-8980-f59c354492d3"
      },
      "source": [
        "############################################## Getting no. of correct prediction########################\n",
        "sum=0\n",
        "#y=np.load('/content/drive/MyDrive/ML_N/Real_time_data/y.npy')\n",
        "for i in range(len(y_total_pred)):\n",
        "#  print(y_pred[i],y[i])\n",
        "  if y_total_pred[i]==y_real[i]:\n",
        "    sum=sum+1\n",
        "print(sum/len(y_real))"
      ],
      "execution_count": null,
      "outputs": [
        {
          "output_type": "stream",
          "text": [
            "0.3497326203208556\n"
          ],
          "name": "stdout"
        }
      ]
    },
    {
      "cell_type": "code",
      "metadata": {
        "id": "-p5-bG0OE7di"
      },
      "source": [
        "from sklearn.metrics import confusion_matrix\n",
        "\n",
        "label=[ 'air_conditioner', 'car_horn', 'children_playing','dog_bark', 'drilling', 'engine_idling', 'gun_shot','jackhammer', 'siren', 'street_music']\n",
        "cm = confusion_matrix(y_real,y_total_pred, [0,1, 2, 3, 4, 5,6,7,8,9])"
      ],
      "execution_count": null,
      "outputs": []
    },
    {
      "cell_type": "code",
      "metadata": {
        "id": "ZNx7Yu7jE_W9"
      },
      "source": [
        "def plot_confusion_matrix(cm, target_names, title='Real time confusion matrix of Tri-training', cmap=None, normalize=True):\n",
        "    import matplotlib.pyplot as plt\n",
        "    import numpy as np\n",
        "    import itertools\n",
        "\n",
        "    accuracy = np.trace(cm) / np.sum(cm).astype('float')\n",
        "    misclass = 1 - accuracy\n",
        "\n",
        "    if cmap is None:\n",
        "        cmap = plt.get_cmap('Blues')\n",
        "\n",
        "    plt.figure(figsize=(8, 6))\n",
        "    plt.imshow(cm, interpolation='nearest', cmap=cmap)\n",
        "    plt.title(title)\n",
        "    plt.colorbar()\n",
        "\n",
        "    if target_names is not None:\n",
        "        tick_marks = np.arange(len(target_names))\n",
        "        plt.xticks(tick_marks, target_names, rotation=45)\n",
        "        plt.yticks(tick_marks, target_names)\n",
        "\n",
        "    if normalize:\n",
        "        cm = cm.astype('float') / cm.sum(axis=1)[:, np.newaxis]\n",
        "\n",
        "\n",
        "    thresh = cm.max() / 1.5 if normalize else cm.max() / 2\n",
        "    for i, j in itertools.product(range(cm.shape[0]), range(cm.shape[1])):\n",
        "        if normalize:\n",
        "            plt.text(j, i, \"{:0.4f}\".format(cm[i, j]),\n",
        "                     horizontalalignment=\"center\",\n",
        "                     color=\"white\" if cm[i, j] > thresh else \"black\")\n",
        "        else:\n",
        "            plt.text(j, i, \"{:,}\".format(cm[i, j]),\n",
        "                     horizontalalignment=\"center\",\n",
        "                     color=\"white\" if cm[i, j] > thresh else \"black\")\n",
        "\n",
        "\n",
        "    plt.tight_layout()\n",
        "    plt.ylabel('True label')\n",
        "    plt.xlabel('Predicted label\\naccuracy={:0.4f}; misclass={:0.4f}'.format(accuracy, misclass))\n",
        "    plt.savefig('/content/drive/MyDrive/ML_A/tri train.png')\n",
        "    plt.show()"
      ],
      "execution_count": null,
      "outputs": []
    },
    {
      "cell_type": "code",
      "metadata": {
        "colab": {
          "base_uri": "https://localhost:8080/",
          "height": 467
        },
        "id": "0qcy21DqFGf5",
        "outputId": "3f1e8df4-a069-45f9-9cf0-484884cb014b"
      },
      "source": [
        "plot_confusion_matrix(cm, label, normalize=False)"
      ],
      "execution_count": null,
      "outputs": [
        {
          "output_type": "display_data",
          "data": {
            "image/png": "[encoded data removed]",
            "text/plain": [
              "<Figure size 576x432 with 2 Axes>"
            ]
          },
          "metadata": {
            "tags": [],
            "needs_background": "light"
          }
        }
      ]
    },
    {
      "cell_type": "markdown",
      "metadata": {
        "id": "-0FIUPKy_cbb"
      },
      "source": [
        "Tri-training with disagreement\n"
      ]
    },
    {
      "cell_type": "code",
      "metadata": {
        "colab": {
          "base_uri": "https://localhost:8080/"
        },
        "id": "rbB385UH4-tO",
        "outputId": "39b81b17-a495-44c1-9c2c-3bb8719c0f3b"
      },
      "source": [
        "# all models tri training with disagreement predictions \n",
        "\n",
        "list=['Air_conditioner','Car_horn','Children_play','Dog_bark','Drilling','Engine_idling','Gun_shot','Jackhammer','Siren','Street_music']\n",
        "import glob\n",
        "sample_r = []\n",
        "feature = []\n",
        "\n",
        "import keras\n",
        "m1 = keras.models.load_model('/content/drive/MyDrive/ML_A/Tri train/3. Tri-S/CRNN.h5')  \n",
        "m2 = keras.models.load_model('/content/drive/MyDrive/ML_A/Tri train/3. Tri-S/MLP.h5') \n",
        "m3 = keras.models.load_model('/content/drive/MyDrive/ML_A/Tri train/3. Tri-S/LSTM.h5')  \n",
        "\n",
        "#############################################Feature extraction#############################################################\n",
        "def parser(row):\n",
        "    # Function to load files and extract features\n",
        "    feature=[]\n",
        "    f=glob.glob(row+'/'+'*.wav')\n",
        "    for i in range(len(f)):\n",
        "        #file_name = '/content/drive/MyDrive/Dataset/audio/fold' + str(df[\"fold\"][i]) + '/' + df[\"slice_file_name\"][i]\n",
        "        X, sample_rate = librosa.load(f[i], res_type='kaiser_fast') \n",
        "        from sklearn import preprocessing\n",
        "        #X=preprocessing.normalize(X.reshape(16,8)).reshape(128,)\n",
        "        \n",
        "        feature.append(X)\n",
        "        sample_r.append(sample_rate)\n",
        "        mels = np.mean(librosa.feature.melspectrogram(y=X, sr=sample_rate).T,axis=0) \n",
        "        \n",
        "        #print(mels.shape)      \n",
        "        #feature.append(mels)\n",
        "        #label.append(df[\"classID\"][i])\n",
        "    return feature, sample_r\n",
        "\n",
        "\n",
        "######################Extracting features of all the wav files of all classes##########################################################\n",
        "features=[]\n",
        "X_total=[]\n",
        "y_total_pred=[]\n",
        "y_correct=[]\n",
        "y_real=[]\n",
        "index=0\n",
        "for i in list:\n",
        "  F=[]\n",
        "  F, sample_rate = parser('/content/drive/MyDrive/ML_N/'+i)\n",
        "  print(index)\n",
        "  \n",
        "  features.append(F)\n",
        "  x_ = []\n",
        "  X_test=[]\n",
        "  y_pred=[]\n",
        "  print(len(F))\n",
        "  for j in range(len(F)):\n",
        "    y_real.append(index)\n",
        "    mels = np.mean(librosa.feature.melspectrogram(y=F[j], sr=sample_rate[j]).T,axis=0)\n",
        "    #print(mels.shape)\n",
        "    from sklearn import preprocessing\n",
        "    mels=preprocessing.normalize(mels.reshape(16,8)).reshape(128,)\n",
        "    mels=np.reshape(mels, (128,))\n",
        "    x_.append(mels)\n",
        "    y_correct.append(index-1)\n",
        "    X_total.append(mels)\n",
        "  print(len(x_))\n",
        "  x=np.array(x_)\n",
        "  index+=1\n",
        "  X_test.append(x)\n",
        "  print(x.shape)\n",
        "  y1 = m1.predict(x.reshape(len(x), 16,8,1))\n",
        "  y2 = m2.predict(x)\n",
        "  y3 = m3.predict(x.reshape(len(x), 16,8))\n",
        "\n",
        "  y = []\n",
        "  for k in range(len(y1)):\n",
        "    p_1 = y1[k][np.argmax(y1[k])]\n",
        "    p_2 = y2[k][np.argmax(y2[k])]\n",
        "    p_3 = y3[k][np.argmax(y3[k])]\n",
        "    p_max = max(max(p_1, p_2), p_3)\n",
        "    if np.argmax(y1[k])==np.argmax(y2[k]) and (p_1>=0.85 or p_2>=0.85):\n",
        "      y.append(y1[k])\n",
        "    elif np.argmax(y2[k])==np.argmax(y3[k]) and (p_2>=0.85 or p_3>=0.85):\n",
        "      y.append(y2[k])\n",
        "    elif np.argmax(y3[k])==np.argmax(y1[k]) and (p_3>=0.85 or p_1>=0.85):\n",
        "      y.append(y3[k])\n",
        "    else:\n",
        "      if p_max==p_1:\n",
        "        y.append(y1[k])\n",
        "      elif p_max==p_2:\n",
        "        y.append(y2[k])\n",
        "      elif p_max==p_3:\n",
        "        y.append(y3[k])\n",
        "\n",
        "\n",
        "  y = np.argmax(y, axis=1)\n",
        "  \n",
        "  y_total_pred=y_total_pred+y.tolist()\n",
        "  print(y)\n",
        "\n",
        "\n",
        "#print(X_total.shape,y_total_pred.shape)"
      ],
      "execution_count": null,
      "outputs": [
        {
          "output_type": "stream",
          "text": [
            "0\n",
            "88\n",
            "88\n",
            "(88, 128)\n",
            "[5 7 9 9 3 5 5 5 9 5 5 9 9 9 9 5 5 9 9 9 5 9 5 9 5 9 9 5 0 9 9 5 5 9 5 9 5\n",
            " 5 9 5 9 5 9 5 9 3 9 9 5 9 9 5 9 9 3 9 9 5 5 5 9 9 5 9 5 5 9 5 9 9 9 9 5 5\n",
            " 5 5 5 9 5 5 5 5 5 9 9 2 5 5]\n",
            "1\n",
            "80\n",
            "80\n",
            "(80, 128)\n",
            "[9 9 9 9 9 9 9 9 9 9 9 9 9 9 9 9 9 9 9 9 9 9 9 9 9 9 9 9 9 9 9 9 9 9 9 9 9\n",
            " 9 9 9 9 9 9 9 9 9 9 9 9 9 9 9 9 9 9 9 9 9 9 9 9 9 9 9 9 9 9 9 9 9 9 9 9 9\n",
            " 9 9 9 9 9 9]\n",
            "2\n",
            "76\n",
            "76\n",
            "(76, 128)\n",
            "[3 3 8 2 8 7 8 3 3 6 2 8 4 2 3 9 3 2 3 3 2 2 2 3 2 3 2 2 3 3 8 5 3 9 1 4 8\n",
            " 7 8 3 3 8 2 2 3 3 2 8 2 6 4 8 2 2 3 2 2 2 2 2 2 2 3 3 3 2 3 8 3 3 9 2 5 5\n",
            " 7 0]\n",
            "3\n",
            "76\n",
            "76\n",
            "(76, 128)\n",
            "[3 3 3 3 3 3 3 3 3 3 3 3 3 6 2 3 3 3 3 3 3 3 8 8 8 3 3 3 3 3 3 3 2 3 3 3 3\n",
            " 3 3 2 2 2 6 2 2 2 2 2 3 3 3 3 3 3 3 3 3 8 8 8 8 8 8 8 8 8 8 8 8 8 9 9 9 9\n",
            " 0 9]\n",
            "4\n",
            "70\n",
            "70\n",
            "(70, 128)\n",
            "[6 9 9 4 4 2 4 2 2 2 4 4 3 3 3 4 4 4 6 4 4 4 4 4 3 3 3 7 6 6 6 6 6 6 0 0 0\n",
            " 0 4 4 4 4 4 4 4 5 4 4 4 4 7 7 7 7 7 7 7 7 7 7 4 7 7 7 7 7 7 7 7 7]\n"
          ],
          "name": "stdout"
        },
        {
          "output_type": "stream",
          "text": [
            "/usr/local/lib/python3.7/dist-packages/librosa/core/spectrum.py:224: UserWarning: n_fft=2048 is too small for input signal of length=1610\n",
            "  n_fft, y.shape[-1]\n"
          ],
          "name": "stderr"
        },
        {
          "output_type": "stream",
          "text": [
            "5\n",
            "75\n"
          ],
          "name": "stdout"
        },
        {
          "output_type": "stream",
          "text": [
            "/usr/local/lib/python3.7/dist-packages/librosa/core/spectrum.py:224: UserWarning: n_fft=2048 is too small for input signal of length=1610\n",
            "  n_fft, y.shape[-1]\n"
          ],
          "name": "stderr"
        },
        {
          "output_type": "stream",
          "text": [
            "75\n",
            "(75, 128)\n",
            "[9 9 9 0 2 0 0 9 9 9 9 5 9 9 8 7 9 5 7 9 9 9 9 9 9 9 9 9 9 5 0 5 5 5 5 5 0\n",
            " 5 5 5 5 5 0 0 0 0 0 0 0 5 0 5 7 2 9 0 0 0 0 0 5 1 8 0 0 0 0 0 9 0 0 0 5 0\n",
            " 7]\n",
            "6\n",
            "98\n",
            "98\n",
            "(98, 128)\n",
            "[7 7 7 6 0 4 0 9 2 4 7 6 6 7 6 0 6 6 7 0 6 6 6 6 6 0 6 3 5 3 2 9 4 9 2 4 3\n",
            " 2 0 5 6 3 6 2 2 6 6 2 6 6 6 6 6 7 3 0 6 0 0 4 0 6 2 6 6 0 0 6 7 7 3 4 6 3\n",
            " 8 9 1 9 4 3 3 4 4 4 6 4 4 3 0 6 0 5 3 4 5 6 6 3]\n"
          ],
          "name": "stdout"
        },
        {
          "output_type": "stream",
          "text": [
            "/usr/local/lib/python3.7/dist-packages/librosa/core/spectrum.py:224: UserWarning: n_fft=2048 is too small for input signal of length=1610\n",
            "  n_fft, y.shape[-1]\n"
          ],
          "name": "stderr"
        },
        {
          "output_type": "stream",
          "text": [
            "7\n",
            "151\n"
          ],
          "name": "stdout"
        },
        {
          "output_type": "stream",
          "text": [
            "/usr/local/lib/python3.7/dist-packages/librosa/core/spectrum.py:224: UserWarning: n_fft=2048 is too small for input signal of length=1610\n",
            "  n_fft, y.shape[-1]\n"
          ],
          "name": "stderr"
        },
        {
          "output_type": "stream",
          "text": [
            "151\n",
            "(151, 128)\n",
            "[7 7 4 7 7 7 7 7 7 7 4 7 7 7 7 7 7 7 7 7 7 7 7 7 7 7 7 7 7 7 7 7 7 7 7 7 7\n",
            " 7 7 7 7 7 7 7 7 7 7 7 7 7 7 7 7 7 7 7 7 7 7 7 4 7 7 7 7 7 7 7 7 7 7 7 7 7\n",
            " 7 7 7 7 7 7 7 7 7 7 7 6 7 7 7 7 7 7 7 7 7 7 7 7 3 7 7 7 7 7 7 7 7 7 7 7 4\n",
            " 7 7 7 7 7 7 7 7 4 7 7 3 7 4 7 7 4 7 7 7 7 7 7 7 7 7 7 7 7 7 7 7 7 7 7 6 7\n",
            " 7 7 7]\n",
            "8\n",
            "151\n",
            "151\n",
            "(151, 128)\n",
            "[3 8 2 2 2 2 8 3 2 2 2 6 2 8 4 2 2 2 2 2 6 8 2 2 2 2 8 3 2 2 2 2 2 2 2 2 2\n",
            " 2 2 8 3 2 2 2 2 2 3 2 2 2 2 2 8 3 2 2 2 2 2 4 8 2 2 2 2 8 3 2 2 2 2 2 8 3\n",
            " 2 2 2 2 2 6 8 2 2 6 2 8 3 2 2 2 2 2 3 3 2 2 2 2 2 3 2 2 2 2 2 8 3 2 2 2 2\n",
            " 2 3 2 2 2 2 2 8 3 6 2 2 2 2 4 8 2 2 6 2 8 8 3 2 2 2 2 2 4 8 2 2 2 2 2 9 2\n",
            " 2 2 3]\n",
            "9\n",
            "70\n",
            "70\n",
            "(70, 128)\n",
            "[6 8 9 9 8 9 9 9 9 5 9 9 9 9 9 9 9 9 9 9 9 9 9 9 9 9 9 9 9 3 9 8 9 9 9 9 3\n",
            " 9 8 9 9 9 9 9 9 9 9 9 9 5 9 9 9 9 9 9 9 9 9 9 9 4 9 9 9 9 9 8 9 8]\n"
          ],
          "name": "stdout"
        }
      ]
    },
    {
      "cell_type": "code",
      "metadata": {
        "colab": {
          "base_uri": "https://localhost:8080/"
        },
        "id": "cHxsfaAI7yRc",
        "outputId": "2eda2feb-e25f-45fa-db6b-c5e822de6479"
      },
      "source": [
        "############################################## Getting no. of correct prediction########################\n",
        "sum=0\n",
        "#y=np.load('/content/drive/MyDrive/ML_N/Real_time_data/y.npy')\n",
        "for i in range(len(y_total_pred)):\n",
        "#  print(y_pred[i],y[i])\n",
        "  if y_total_pred[i]==y_real[i]:\n",
        "    sum=sum+1\n",
        "print(sum/len(y_real))"
      ],
      "execution_count": null,
      "outputs": [
        {
          "output_type": "stream",
          "text": [
            "0.38181818181818183\n"
          ],
          "name": "stdout"
        }
      ]
    },
    {
      "cell_type": "code",
      "metadata": {
        "id": "rHLnVEvbBu7m"
      },
      "source": [
        "from sklearn.metrics import confusion_matrix\n",
        "\n",
        "label=[ 'air_conditioner', 'car_horn', 'children_playing','dog_bark', 'drilling', 'engine_idling', 'gun_shot','jackhammer', 'siren', 'street_music']\n",
        "cm = confusion_matrix(y_real,y_total_pred, [0,1, 2, 3, 4, 5,6,7,8,9])"
      ],
      "execution_count": null,
      "outputs": []
    },
    {
      "cell_type": "code",
      "metadata": {
        "id": "_1XcBMXq7saH"
      },
      "source": [
        "def plot_confusion_matrix(cm, target_names, title='Real time confusion matrix of Tri-training with disagreement', cmap=None, normalize=True):\n",
        "    import matplotlib.pyplot as plt\n",
        "    import numpy as np\n",
        "    import itertools\n",
        "\n",
        "    accuracy = np.trace(cm) / np.sum(cm).astype('float')\n",
        "    misclass = 1 - accuracy\n",
        "\n",
        "    if cmap is None:\n",
        "        cmap = plt.get_cmap('Blues')\n",
        "\n",
        "    plt.figure(figsize=(8, 6))\n",
        "    plt.imshow(cm, interpolation='nearest', cmap=cmap)\n",
        "    plt.title(title)\n",
        "    plt.colorbar()\n",
        "\n",
        "    if target_names is not None:\n",
        "        tick_marks = np.arange(len(target_names))\n",
        "        plt.xticks(tick_marks, target_names, rotation=45)\n",
        "        plt.yticks(tick_marks, target_names)\n",
        "\n",
        "    if normalize:\n",
        "        cm = cm.astype('float') / cm.sum(axis=1)[:, np.newaxis]\n",
        "\n",
        "\n",
        "    thresh = cm.max() / 1.5 if normalize else cm.max() / 2\n",
        "    for i, j in itertools.product(range(cm.shape[0]), range(cm.shape[1])):\n",
        "        if normalize:\n",
        "            plt.text(j, i, \"{:0.4f}\".format(cm[i, j]),\n",
        "                     horizontalalignment=\"center\",\n",
        "                     color=\"white\" if cm[i, j] > thresh else \"black\")\n",
        "        else:\n",
        "            plt.text(j, i, \"{:,}\".format(cm[i, j]),\n",
        "                     horizontalalignment=\"center\",\n",
        "                     color=\"white\" if cm[i, j] > thresh else \"black\")\n",
        "\n",
        "\n",
        "    plt.tight_layout()\n",
        "    plt.ylabel('True label')\n",
        "    plt.xlabel('Predicted label\\naccuracy={:0.4f}; misclass={:0.4f}'.format(accuracy, misclass))\n",
        "    plt.savefig('/content/drive/MyDrive/ML_A/tri train disagree.png')\n",
        "    plt.show()"
      ],
      "execution_count": null,
      "outputs": []
    },
    {
      "cell_type": "code",
      "metadata": {
        "colab": {
          "base_uri": "https://localhost:8080/",
          "height": 467
        },
        "id": "_dQ_M5eTCgxL",
        "outputId": "3cce4f4c-ba0c-46cd-a1f0-a230ac9799dd"
      },
      "source": [
        "plot_confusion_matrix(cm, label, normalize=False)"
      ],
      "execution_count": null,
      "outputs": [
        {
          "output_type": "display_data",
          "data": {
            "image/png": "[encoded data removed]",
            "text/plain": [
              "<Figure size 576x432 with 2 Axes>"
            ]
          },
          "metadata": {
            "tags": [],
            "needs_background": "light"
          }
        }
      ]
    }
  ]
}