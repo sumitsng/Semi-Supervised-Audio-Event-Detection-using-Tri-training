{
  "nbformat": 4,
  "nbformat_minor": 0,
  "metadata": {
    "colab": {
      "name": "6.Transfer_learning.ipynb",
      "provenance": [],
      "collapsed_sections": []
    },
    "kernelspec": {
      "name": "python3",
      "display_name": "Python 3"
    },
    "language_info": {
      "name": "python"
    }
  },
  "cells": [
    {
      "cell_type": "markdown",
      "metadata": {
        "id": "Q4SR_TLHaOd3"
      },
      "source": [
        "# **Transfer Learning Algorithm**"
      ]
    },
    {
      "cell_type": "code",
      "metadata": {
        "id": "O8ilDSTEDkHt"
      },
      "source": [
        "####################################### importing important libraries#######################################\n",
        "\n",
        "\n",
        "import pandas as pd\n",
        "import numpy as np\n",
        "from sklearn.model_selection import train_test_split\n",
        "from sklearn.metrics import classification_report\n",
        "pd.plotting.register_matplotlib_converters()\n",
        "import matplotlib.pyplot as plt\n",
        "%matplotlib inline\n",
        "from tensorflow.keras.models import Sequential\n",
        "from tensorflow.keras.layers import Conv2D, Flatten, Dense, MaxPool2D, Dropout\n",
        "from tensorflow.keras.utils import to_categorical\n",
        "import librosa\n",
        "import keras\n",
        "from keras.layers import LSTM, Dense, Dropout, Flatten\n",
        "from keras.models import Sequential\n",
        "from keras.optimizers import Adam\n",
        "from keras.callbacks import EarlyStopping, ModelCheckpoint\n",
        "import keras\n",
        "from keras.layers import LSTM, Dense, Dropout, Flatten\n",
        "import numpy as np\n",
        "import scipy.signal as signal\n",
        "import matplotlib.pyplot as plt\n",
        "import tensorflow as tf"
      ],
      "execution_count": null,
      "outputs": []
    },
    {
      "cell_type": "markdown",
      "metadata": {
        "id": "ml-H415WD9lZ"
      },
      "source": [
        "Loading the model whose layers are to be used"
      ]
    },
    {
      "cell_type": "code",
      "metadata": {
        "id": "1DMsYeX-G9Hl",
        "colab": {
          "base_uri": "https://localhost:8080/"
        },
        "outputId": "b2973964-f693-4479-82c4-d270fc3aaaff"
      },
      "source": [
        "model2=keras.models.load_model('/content/drive/MyDrive/ML_A/Tri train/3. Tri-S/CRNN_80.h5')"
      ],
      "execution_count": null,
      "outputs": [
        {
          "output_type": "stream",
          "text": [
            "WARNING:tensorflow:Error in loading the saved optimizer state. As a result, your model is starting with a freshly initialized optimizer.\n"
          ],
          "name": "stdout"
        }
      ]
    },
    {
      "cell_type": "code",
      "metadata": {
        "colab": {
          "base_uri": "https://localhost:8080/"
        },
        "id": "UFOxISCtyWiv",
        "outputId": "e4e5b761-2929-4ff3-bbc0-8bfc6278c678"
      },
      "source": [
        "model2.summary()"
      ],
      "execution_count": null,
      "outputs": [
        {
          "output_type": "stream",
          "text": [
            "Model: \"sequential_35\"\n",
            "_________________________________________________________________\n",
            "Layer (type)                 Output Shape              Param #   \n",
            "=================================================================\n",
            "conv2d_26 (Conv2D)           (None, 16, 8, 64)         640       \n",
            "_________________________________________________________________\n",
            "max_pooling2d_26 (MaxPooling (None, 8, 4, 64)          0         \n",
            "_________________________________________________________________\n",
            "conv2d_27 (Conv2D)           (None, 8, 4, 128)         73856     \n",
            "_________________________________________________________________\n",
            "max_pooling2d_27 (MaxPooling (None, 4, 2, 128)         0         \n",
            "_________________________________________________________________\n",
            "reshape_13 (Reshape)         (None, 8, 128)            0         \n",
            "_________________________________________________________________\n",
            "lstm_25 (LSTM)               (None, 32)                20608     \n",
            "_________________________________________________________________\n",
            "flatten_25 (Flatten)         (None, 32)                0         \n",
            "_________________________________________________________________\n",
            "dense_90 (Dense)             (None, 32)                1056      \n",
            "_________________________________________________________________\n",
            "dropout_55 (Dropout)         (None, 32)                0         \n",
            "_________________________________________________________________\n",
            "dense_91 (Dense)             (None, 10)                330       \n",
            "=================================================================\n",
            "Total params: 96,490\n",
            "Trainable params: 96,490\n",
            "Non-trainable params: 0\n",
            "_________________________________________________________________\n"
          ],
          "name": "stdout"
        }
      ]
    },
    {
      "cell_type": "code",
      "metadata": {
        "id": "s62EHjAZm1Io"
      },
      "source": [
        "len(model2.layers)\n",
        "for i in range(7):\n",
        "    model2.layers[i].trainable = False"
      ],
      "execution_count": null,
      "outputs": []
    },
    {
      "cell_type": "markdown",
      "metadata": {
        "id": "uN2fYV3aEGBo"
      },
      "source": [
        "Adding 3 more dense layers"
      ]
    },
    {
      "cell_type": "code",
      "metadata": {
        "id": "IKG5dIXdQ_-R"
      },
      "source": [
        "import tensorflow as tf\n",
        "\n",
        "ll = model2.layers[7].output\n",
        "ll = Dense(128)(ll)\n",
        "ll = Dense(64)(ll)\n",
        "ll = Dense(32)(ll)\n",
        "ll = Dense(1,activation=\"sigmoid\")(ll)\n",
        "\n",
        "new_model = tf.keras.Model(inputs=model2.input,outputs=ll)"
      ],
      "execution_count": null,
      "outputs": []
    },
    {
      "cell_type": "code",
      "metadata": {
        "colab": {
          "base_uri": "https://localhost:8080/"
        },
        "id": "7zK59_HgXEoT",
        "outputId": "e6ba8b6d-dfed-45f4-9527-ef3617ab7759"
      },
      "source": [
        "new_model.summary()"
      ],
      "execution_count": null,
      "outputs": [
        {
          "output_type": "stream",
          "text": [
            "Model: \"model\"\n",
            "_________________________________________________________________\n",
            "Layer (type)                 Output Shape              Param #   \n",
            "=================================================================\n",
            "conv2d_26_input (InputLayer) [(None, 16, 8, 1)]        0         \n",
            "_________________________________________________________________\n",
            "conv2d_26 (Conv2D)           (None, 16, 8, 64)         640       \n",
            "_________________________________________________________________\n",
            "max_pooling2d_26 (MaxPooling (None, 8, 4, 64)          0         \n",
            "_________________________________________________________________\n",
            "conv2d_27 (Conv2D)           (None, 8, 4, 128)         73856     \n",
            "_________________________________________________________________\n",
            "max_pooling2d_27 (MaxPooling (None, 4, 2, 128)         0         \n",
            "_________________________________________________________________\n",
            "reshape_13 (Reshape)         (None, 8, 128)            0         \n",
            "_________________________________________________________________\n",
            "lstm_25 (LSTM)               (None, 32)                20608     \n",
            "_________________________________________________________________\n",
            "flatten_25 (Flatten)         (None, 32)                0         \n",
            "_________________________________________________________________\n",
            "dense_90 (Dense)             (None, 32)                1056      \n",
            "_________________________________________________________________\n",
            "dense (Dense)                (None, 128)               4224      \n",
            "_________________________________________________________________\n",
            "dense_1 (Dense)              (None, 64)                8256      \n",
            "_________________________________________________________________\n",
            "dense_2 (Dense)              (None, 32)                2080      \n",
            "_________________________________________________________________\n",
            "dense_3 (Dense)              (None, 1)                 33        \n",
            "=================================================================\n",
            "Total params: 110,753\n",
            "Trainable params: 15,649\n",
            "Non-trainable params: 95,104\n",
            "_________________________________________________________________\n"
          ],
          "name": "stdout"
        }
      ]
    },
    {
      "cell_type": "markdown",
      "metadata": {
        "id": "d0mwM2m7EPd7"
      },
      "source": [
        "Feature extraction"
      ]
    },
    {
      "cell_type": "code",
      "metadata": {
        "id": "ycfnReWqXcwR"
      },
      "source": [
        "label = []\n",
        "\n",
        "import glob\n",
        "def parser(row):\n",
        "    # Function to load files and extract features\n",
        "    f = glob.glob(row+'/'+'*.wav')\n",
        "    print(len(f))\n",
        "    feature = []\n",
        "    for i in f:\n",
        "        #file_name = '/content/drive/MyDrive/Dataset/audio/fold' + str(df[\"fold\"][i]) + '/' + df[\"slice_file_name\"][i]\n",
        "        mels, sample_rate = librosa.load(i, res_type='kaiser_fast') \n",
        "        #print(mels.shape)\n",
        "        x = []\n",
        "        \n",
        "        mels = np.mean(librosa.feature.melspectrogram(y=mels, sr=sample_rate).T,axis=0) \n",
        "        for i in range(0, len(mels), 128):\n",
        "            if len(mels)-i<128:\n",
        "              x.append(np.array(list(mels[i:])+[0]*(128-len(mels)+i)))\n",
        "            else:\n",
        "              x.append(mels[i:i+128])\n",
        " \n",
        "        #print(mels.shape)  \n",
        "        \n",
        "        feature=np.array(list(x)+list(feature))\n",
        "        label.append(row[-4:-1])\n",
        "\n",
        "    return [feature, label]"
      ],
      "execution_count": null,
      "outputs": []
    },
    {
      "cell_type": "markdown",
      "metadata": {
        "id": "f3uYvALRER2I"
      },
      "source": [
        "Training Dataset feature extraction"
      ]
    },
    {
      "cell_type": "code",
      "metadata": {
        "id": "7GM85E2mYNe0",
        "colab": {
          "base_uri": "https://localhost:8080/"
        },
        "outputId": "85596015-ed96-459e-92f8-61846ee27f94"
      },
      "source": [
        "f, l= parser('/content/drive/MyDrive/cats_dogs/train/cat')\n",
        "X = list(f)\n",
        "y = [0]*len(X)"
      ],
      "execution_count": null,
      "outputs": [
        {
          "output_type": "stream",
          "text": [
            "125\n"
          ],
          "name": "stdout"
        }
      ]
    },
    {
      "cell_type": "code",
      "metadata": {
        "id": "Zv7Y0EC_ZWzf",
        "colab": {
          "base_uri": "https://localhost:8080/"
        },
        "outputId": "984ddf2a-5560-46df-8442-dc273adbe645"
      },
      "source": [
        "f, l= parser('/content/drive/MyDrive/cats_dogs/train/dog')\n",
        "X = X+list(f)\n",
        "y = y+[1]*len(f)"
      ],
      "execution_count": null,
      "outputs": [
        {
          "output_type": "stream",
          "text": [
            "85\n"
          ],
          "name": "stdout"
        }
      ]
    },
    {
      "cell_type": "code",
      "metadata": {
        "id": "2c1LGL_hSeHB"
      },
      "source": [
        "X=np.array(X)\n",
        "y=np.array(y)"
      ],
      "execution_count": null,
      "outputs": []
    },
    {
      "cell_type": "code",
      "metadata": {
        "id": "suceReuv82n5"
      },
      "source": [
        "X=X.reshape(210,16,8,1)"
      ],
      "execution_count": null,
      "outputs": []
    },
    {
      "cell_type": "code",
      "metadata": {
        "id": "7GwR_HMvAkU3"
      },
      "source": [
        "X__train, X__test, y__train, y__test = train_test_split(X, y, test_size=0.3)"
      ],
      "execution_count": null,
      "outputs": []
    },
    {
      "cell_type": "markdown",
      "metadata": {
        "id": "CjnCLVSfEabL"
      },
      "source": [
        "Cat: 0\n",
        "Dog: 1"
      ]
    },
    {
      "cell_type": "code",
      "metadata": {
        "colab": {
          "base_uri": "https://localhost:8080/"
        },
        "id": "1xoC5korrNW-",
        "outputId": "e0aa7e6a-3800-4fc8-d5ce-701393eaf722"
      },
      "source": [
        "y__train"
      ],
      "execution_count": null,
      "outputs": [
        {
          "output_type": "execute_result",
          "data": {
            "text/plain": [
              "array([0, 0, 1, 1, 0, 1, 1, 0, 1, 0, 0, 1, 0, 1, 1, 0, 0, 1, 0, 1, 0, 0,\n",
              "       1, 0, 1, 0, 1, 0, 0, 0, 0, 1, 1, 0, 0, 0, 0, 0, 1, 1, 1, 0, 0, 0,\n",
              "       0, 1, 1, 0, 1, 0, 0, 0, 1, 0, 1, 1, 0, 1, 0, 1, 0, 0, 0, 0, 1, 0,\n",
              "       1, 1, 1, 1, 1, 1, 0, 0, 0, 1, 1, 1, 1, 0, 1, 0, 0, 0, 0, 0, 0, 1,\n",
              "       1, 1, 0, 0, 1, 0, 0, 1, 0, 0, 1, 0, 0, 1, 0, 0, 1, 0, 0, 0, 0, 1,\n",
              "       0, 0, 1, 0, 0, 0, 0, 0, 0, 0, 0, 0, 0, 1, 1, 0, 0, 0, 0, 0, 0, 0,\n",
              "       1, 0, 0, 1, 0, 0, 0, 0, 1, 0, 0, 0, 1, 0, 0])"
            ]
          },
          "metadata": {
            "tags": []
          },
          "execution_count": 15
        }
      ]
    },
    {
      "cell_type": "markdown",
      "metadata": {
        "id": "EuH2eTsAEkwL"
      },
      "source": [
        "With 25 epochs\n"
      ]
    },
    {
      "cell_type": "code",
      "metadata": {
        "colab": {
          "base_uri": "https://localhost:8080/"
        },
        "id": "LNmliWqH7U4r",
        "outputId": "64b2a5cd-df01-4c07-b9ff-278ec60268af"
      },
      "source": [
        "callbacks = [ModelCheckpoint('/content/drive/MyDrive/ML_A/CNN_transfer learning2.h5', monitor='val_loss', mode='min', save_best_only=True)]\n",
        "opt = Adam(lr=0.1)\n",
        "new_model.compile(loss='binary_crossentropy', optimizer=opt, metrics=['accuracy'])\n",
        "history = new_model.fit(X__train, y__train, epochs = 25, batch_size = 64, validation_data = (X__test, y__test), callbacks=callbacks)\n"
      ],
      "execution_count": null,
      "outputs": [
        {
          "output_type": "stream",
          "text": [
            "Epoch 1/25\n",
            "3/3 [==============================] - 3s 420ms/step - loss: 16.6767 - accuracy: 0.4067 - val_loss: 905.9744 - val_accuracy: 0.4921\n",
            "Epoch 2/25\n",
            "3/3 [==============================] - 0s 33ms/step - loss: 843.0305 - accuracy: 0.4534 - val_loss: 96.2193 - val_accuracy: 0.5397\n",
            "Epoch 3/25\n",
            "3/3 [==============================] - 0s 37ms/step - loss: 278.3945 - accuracy: 0.5348 - val_loss: 9.4626 - val_accuracy: 0.6667\n",
            "Epoch 4/25\n",
            "3/3 [==============================] - 0s 34ms/step - loss: 47.2823 - accuracy: 0.4496 - val_loss: 261.9543 - val_accuracy: 0.5238\n",
            "Epoch 5/25\n",
            "3/3 [==============================] - 0s 34ms/step - loss: 152.0935 - accuracy: 0.5251 - val_loss: 42.9976 - val_accuracy: 0.5556\n",
            "Epoch 6/25\n",
            "3/3 [==============================] - 0s 43ms/step - loss: 42.4857 - accuracy: 0.6005 - val_loss: 12.8935 - val_accuracy: 0.6190\n",
            "Epoch 7/25\n",
            "3/3 [==============================] - 0s 33ms/step - loss: 27.5637 - accuracy: 0.4238 - val_loss: 12.0017 - val_accuracy: 0.6984\n",
            "Epoch 8/25\n",
            "3/3 [==============================] - 0s 37ms/step - loss: 15.3627 - accuracy: 0.6610 - val_loss: 19.6975 - val_accuracy: 0.5238\n",
            "Epoch 9/25\n",
            "3/3 [==============================] - 0s 36ms/step - loss: 14.0370 - accuracy: 0.6727 - val_loss: 35.3848 - val_accuracy: 0.5714\n",
            "Epoch 10/25\n",
            "3/3 [==============================] - 0s 35ms/step - loss: 31.4660 - accuracy: 0.4909 - val_loss: 16.9652 - val_accuracy: 0.4603\n",
            "Epoch 11/25\n",
            "3/3 [==============================] - 0s 33ms/step - loss: 18.6807 - accuracy: 0.4374 - val_loss: 13.8553 - val_accuracy: 0.4603\n",
            "Epoch 12/25\n",
            "3/3 [==============================] - 0s 33ms/step - loss: 11.8720 - accuracy: 0.5498 - val_loss: 4.4665 - val_accuracy: 0.7619\n",
            "Epoch 13/25\n",
            "3/3 [==============================] - 0s 35ms/step - loss: 4.6330 - accuracy: 0.6863 - val_loss: 11.9610 - val_accuracy: 0.3175\n",
            "Epoch 14/25\n",
            "3/3 [==============================] - 0s 34ms/step - loss: 6.2116 - accuracy: 0.4787 - val_loss: 8.1621 - val_accuracy: 0.7302\n",
            "Epoch 15/25\n",
            "3/3 [==============================] - 0s 33ms/step - loss: 9.3406 - accuracy: 0.6604 - val_loss: 7.6224 - val_accuracy: 0.4603\n",
            "Epoch 16/25\n",
            "3/3 [==============================] - 0s 37ms/step - loss: 4.6399 - accuracy: 0.6414 - val_loss: 3.4725 - val_accuracy: 0.6667\n",
            "Epoch 17/25\n",
            "3/3 [==============================] - 0s 33ms/step - loss: 2.4329 - accuracy: 0.6945 - val_loss: 4.8304 - val_accuracy: 0.6667\n",
            "Epoch 18/25\n",
            "3/3 [==============================] - 0s 38ms/step - loss: 2.8480 - accuracy: 0.7520 - val_loss: 2.9779 - val_accuracy: 0.6984\n",
            "Epoch 19/25\n",
            "3/3 [==============================] - 0s 37ms/step - loss: 1.7399 - accuracy: 0.7287 - val_loss: 3.0843 - val_accuracy: 0.6984\n",
            "Epoch 20/25\n",
            "3/3 [==============================] - 0s 33ms/step - loss: 1.8624 - accuracy: 0.7457 - val_loss: 1.5659 - val_accuracy: 0.6984\n",
            "Epoch 21/25\n",
            "3/3 [==============================] - 0s 34ms/step - loss: 0.8243 - accuracy: 0.7867 - val_loss: 1.4746 - val_accuracy: 0.7302\n",
            "Epoch 22/25\n",
            "3/3 [==============================] - 0s 35ms/step - loss: 0.9450 - accuracy: 0.7321 - val_loss: 1.0989 - val_accuracy: 0.7937\n",
            "Epoch 23/25\n",
            "3/3 [==============================] - 0s 34ms/step - loss: 0.7890 - accuracy: 0.7667 - val_loss: 0.9468 - val_accuracy: 0.7460\n",
            "Epoch 24/25\n",
            "3/3 [==============================] - 0s 37ms/step - loss: 0.5537 - accuracy: 0.8043 - val_loss: 0.6765 - val_accuracy: 0.6825\n",
            "Epoch 25/25\n",
            "3/3 [==============================] - 0s 34ms/step - loss: 0.4473 - accuracy: 0.8037 - val_loss: 0.6213 - val_accuracy: 0.7460\n"
          ],
          "name": "stdout"
        }
      ]
    },
    {
      "cell_type": "markdown",
      "metadata": {
        "id": "60P6BkQfEp99"
      },
      "source": [
        "Testing on Real Recorded Dataset from youtube"
      ]
    },
    {
      "cell_type": "code",
      "metadata": {
        "colab": {
          "base_uri": "https://localhost:8080/"
        },
        "id": "aSrqT4Zo7zbp",
        "outputId": "43795c46-f5f6-46d0-d9c0-f8d837e9f807"
      },
      "source": [
        "f, l= parser('/content/drive/MyDrive/ML_N/Dog_bark')\n",
        "X_test = list(f)\n",
        "y_test = [1]*len(X_test)\n",
        "X_test=np.array(X_test)\n",
        "X_test =  X_test.reshape(len(X_test), 16, 8, 1)\n",
        "y_pred = new_model.predict(X_test)\n",
        "y_pred\n",
        "c = 0\n",
        "for i in y_pred:\n",
        "  if i<0.5:\n",
        "    print(0)\n",
        "  else:\n",
        "    c+=1\n",
        "    print(1)\n",
        "print(c/len(y_pred))"
      ],
      "execution_count": null,
      "outputs": [
        {
          "output_type": "stream",
          "text": [
            "76\n",
            "1\n",
            "0\n",
            "0\n",
            "0\n",
            "1\n",
            "1\n",
            "1\n",
            "1\n",
            "1\n",
            "1\n",
            "1\n",
            "1\n",
            "1\n",
            "1\n",
            "1\n",
            "1\n",
            "1\n",
            "1\n",
            "1\n",
            "0\n",
            "0\n",
            "1\n",
            "1\n",
            "0\n",
            "0\n",
            "0\n",
            "0\n",
            "1\n",
            "0\n",
            "0\n",
            "1\n",
            "1\n",
            "0\n",
            "1\n",
            "0\n",
            "1\n",
            "0\n",
            "1\n",
            "1\n",
            "1\n",
            "1\n",
            "1\n",
            "1\n",
            "1\n",
            "1\n",
            "1\n",
            "1\n",
            "1\n",
            "1\n",
            "1\n",
            "1\n",
            "1\n",
            "1\n",
            "1\n",
            "1\n",
            "1\n",
            "1\n",
            "1\n",
            "1\n",
            "1\n",
            "1\n",
            "1\n",
            "1\n",
            "1\n",
            "1\n",
            "1\n",
            "1\n",
            "1\n",
            "0\n",
            "0\n",
            "0\n",
            "1\n",
            "1\n",
            "1\n",
            "1\n",
            "1\n",
            "0.7763157894736842\n"
          ],
          "name": "stdout"
        }
      ]
    },
    {
      "cell_type": "markdown",
      "metadata": {
        "id": "sokCj7UmE2jg"
      },
      "source": [
        "Testing Accuracy is 77.6%\n"
      ]
    },
    {
      "cell_type": "markdown",
      "metadata": {
        "id": "qb32HuDKE2qA"
      },
      "source": [
        "."
      ]
    },
    {
      "cell_type": "markdown",
      "metadata": {
        "id": "IiQn6konEzjK"
      },
      "source": [
        "Now Training on a normal CNN Model "
      ]
    },
    {
      "cell_type": "code",
      "metadata": {
        "id": "Q3XjJvdOZlxk"
      },
      "source": [
        "model = Sequential()\n",
        "model.add(Conv2D(64, (3, 3), padding = \"same\", activation = \"tanh\", input_shape = (16, 8, 1)))\n",
        "model.add(MaxPool2D(pool_size=(2, 2)))\n",
        "#model.add(Dropout(0.1))\n",
        "model.add(Conv2D(128, (3, 3), padding = \"same\", activation = \"tanh\"))\n",
        "model.add(MaxPool2D(pool_size=(2, 2)))\n",
        "model.add(Dropout(0.1))\n",
        "model.add(Flatten())\n",
        "model.add(Dense(1024, activation = \"tanh\"))\n",
        "model.add(Dense(1, activation = \"sigmoid\"))"
      ],
      "execution_count": null,
      "outputs": []
    },
    {
      "cell_type": "code",
      "metadata": {
        "id": "v-sLyEyuZ4gb",
        "colab": {
          "base_uri": "https://localhost:8080/"
        },
        "outputId": "47a1864e-e1b2-4991-eb2d-260d03d640ff"
      },
      "source": [
        "opt = Adam(lr=0.001)\n",
        "model.compile(loss='binary_crossentropy', optimizer=opt, metrics=['accuracy'])\n",
        "#callbacks = [ModelCheckpoint('/content/drive/MyDrive/CNN_base.h5', monitor='val_loss', mode='min', save_best_only=True),EarlyStopping(monitor = 'val_loss',min_delta = 0,patience = 40,restore_best_weights = True)]\n",
        "model.summary()"
      ],
      "execution_count": null,
      "outputs": [
        {
          "output_type": "stream",
          "text": [
            "Model: \"sequential\"\n",
            "_________________________________________________________________\n",
            "Layer (type)                 Output Shape              Param #   \n",
            "=================================================================\n",
            "conv2d (Conv2D)              (None, 16, 8, 64)         640       \n",
            "_________________________________________________________________\n",
            "max_pooling2d (MaxPooling2D) (None, 8, 4, 64)          0         \n",
            "_________________________________________________________________\n",
            "conv2d_1 (Conv2D)            (None, 8, 4, 128)         73856     \n",
            "_________________________________________________________________\n",
            "max_pooling2d_1 (MaxPooling2 (None, 4, 2, 128)         0         \n",
            "_________________________________________________________________\n",
            "dropout (Dropout)            (None, 4, 2, 128)         0         \n",
            "_________________________________________________________________\n",
            "flatten (Flatten)            (None, 1024)              0         \n",
            "_________________________________________________________________\n",
            "dense_4 (Dense)              (None, 1024)              1049600   \n",
            "_________________________________________________________________\n",
            "dense_5 (Dense)              (None, 1)                 1025      \n",
            "=================================================================\n",
            "Total params: 1,125,121\n",
            "Trainable params: 1,125,121\n",
            "Non-trainable params: 0\n",
            "_________________________________________________________________\n"
          ],
          "name": "stdout"
        }
      ]
    },
    {
      "cell_type": "code",
      "metadata": {
        "id": "2J3VWyWsaO1r",
        "colab": {
          "base_uri": "https://localhost:8080/"
        },
        "outputId": "c61e9840-cd70-4209-c381-a8a54a5b83f8"
      },
      "source": [
        "h = model.fit(X__train, y__train, epochs = 15, batch_size = 64, validation_data = (X__test, y__test))"
      ],
      "execution_count": null,
      "outputs": [
        {
          "output_type": "stream",
          "text": [
            "Epoch 1/15\n",
            "3/3 [==============================] - 1s 155ms/step - loss: 1.1348 - accuracy: 0.4992 - val_loss: 0.8093 - val_accuracy: 0.6825\n",
            "Epoch 2/15\n",
            "3/3 [==============================] - 0s 60ms/step - loss: 0.7102 - accuracy: 0.6576 - val_loss: 0.3428 - val_accuracy: 0.8730\n",
            "Epoch 3/15\n",
            "3/3 [==============================] - 0s 65ms/step - loss: 0.3768 - accuracy: 0.9026 - val_loss: 0.3961 - val_accuracy: 0.8254\n",
            "Epoch 4/15\n",
            "3/3 [==============================] - 0s 60ms/step - loss: 0.2758 - accuracy: 0.9318 - val_loss: 0.4379 - val_accuracy: 0.8254\n",
            "Epoch 5/15\n",
            "3/3 [==============================] - 0s 62ms/step - loss: 0.2939 - accuracy: 0.8855 - val_loss: 0.2857 - val_accuracy: 0.8889\n",
            "Epoch 6/15\n",
            "3/3 [==============================] - 0s 70ms/step - loss: 0.2114 - accuracy: 0.9255 - val_loss: 0.3235 - val_accuracy: 0.8571\n",
            "Epoch 7/15\n",
            "3/3 [==============================] - 0s 64ms/step - loss: 0.1491 - accuracy: 0.9557 - val_loss: 0.2796 - val_accuracy: 0.8730\n",
            "Epoch 8/15\n",
            "3/3 [==============================] - 0s 60ms/step - loss: 0.1448 - accuracy: 0.9693 - val_loss: 0.3594 - val_accuracy: 0.8889\n",
            "Epoch 9/15\n",
            "3/3 [==============================] - 0s 70ms/step - loss: 0.1195 - accuracy: 0.9542 - val_loss: 0.3309 - val_accuracy: 0.8730\n",
            "Epoch 10/15\n",
            "3/3 [==============================] - 0s 63ms/step - loss: 0.0997 - accuracy: 0.9586 - val_loss: 0.3262 - val_accuracy: 0.8413\n",
            "Epoch 11/15\n",
            "3/3 [==============================] - 0s 58ms/step - loss: 0.0684 - accuracy: 0.9761 - val_loss: 0.3679 - val_accuracy: 0.9048\n",
            "Epoch 12/15\n",
            "3/3 [==============================] - 0s 67ms/step - loss: 0.0618 - accuracy: 0.9966 - val_loss: 0.3558 - val_accuracy: 0.9048\n",
            "Epoch 13/15\n",
            "3/3 [==============================] - 0s 63ms/step - loss: 0.0346 - accuracy: 0.9966 - val_loss: 0.3362 - val_accuracy: 0.8571\n",
            "Epoch 14/15\n",
            "3/3 [==============================] - 0s 62ms/step - loss: 0.0292 - accuracy: 0.9946 - val_loss: 0.3869 - val_accuracy: 0.8730\n",
            "Epoch 15/15\n",
            "3/3 [==============================] - 0s 61ms/step - loss: 0.0271 - accuracy: 0.9946 - val_loss: 0.3633 - val_accuracy: 0.8571\n"
          ],
          "name": "stdout"
        }
      ]
    },
    {
      "cell_type": "markdown",
      "metadata": {
        "id": "EVNYv60uFCAA"
      },
      "source": [
        "Testing on Same youtube Dataset"
      ]
    },
    {
      "cell_type": "code",
      "metadata": {
        "colab": {
          "base_uri": "https://localhost:8080/"
        },
        "id": "qjc1BP3862Oh",
        "outputId": "458c3739-0e27-4467-a895-e22579a6e126"
      },
      "source": [
        "#f, l= parser('/content/drive/MyDrive/ML_N/Dog_bark')\n",
        "X_test = list(f)\n",
        "y_test = [1]*len(X_test)\n",
        "X_test=np.array(X_test)\n",
        "X_test =  X_test.reshape(len(X_test), 16, 8, 1)\n",
        "y_pred = model.predict(X_test)\n",
        "y_pred\n",
        "c = 0\n",
        "for i in y_pred:\n",
        "  if i<0.5:\n",
        "    print(0)\n",
        "  else:\n",
        "    c+=1\n",
        "    print(1)\n",
        "print(c/len(y_pred))"
      ],
      "execution_count": null,
      "outputs": [
        {
          "output_type": "stream",
          "text": [
            "1\n",
            "0\n",
            "0\n",
            "1\n",
            "1\n",
            "0\n",
            "0\n",
            "0\n",
            "0\n",
            "0\n",
            "0\n",
            "0\n",
            "0\n",
            "0\n",
            "0\n",
            "0\n",
            "0\n",
            "0\n",
            "0\n",
            "0\n",
            "0\n",
            "0\n",
            "0\n",
            "0\n",
            "0\n",
            "0\n",
            "0\n",
            "0\n",
            "0\n",
            "0\n",
            "0\n",
            "0\n",
            "0\n",
            "0\n",
            "0\n",
            "0\n",
            "0\n",
            "0\n",
            "0\n",
            "0\n",
            "0\n",
            "0\n",
            "0\n",
            "0\n",
            "0\n",
            "0\n",
            "0\n",
            "1\n",
            "1\n",
            "1\n",
            "1\n",
            "1\n",
            "1\n",
            "1\n",
            "1\n",
            "1\n",
            "1\n",
            "1\n",
            "1\n",
            "1\n",
            "1\n",
            "1\n",
            "0\n",
            "0\n",
            "1\n",
            "1\n",
            "0\n",
            "0\n",
            "0\n",
            "0\n",
            "0\n",
            "1\n",
            "1\n",
            "1\n",
            "1\n",
            "1\n",
            "0.32894736842105265\n"
          ],
          "name": "stdout"
        }
      ]
    },
    {
      "cell_type": "markdown",
      "metadata": {
        "id": "q73R_oyuFJOm"
      },
      "source": [
        "Testing Accuracy is 32.8%"
      ]
    }
  ]
}